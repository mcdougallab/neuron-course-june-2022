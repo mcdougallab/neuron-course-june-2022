{
  "nbformat": 4,
  "nbformat_minor": 0,
  "metadata": {
    "colab": {
      "name": "python-intro-for-neuron.ipynb",
      "provenance": [],
      "private_outputs": true,
      "collapsed_sections": []
    },
    "kernelspec": {
      "name": "python3",
      "display_name": "Python 3"
    },
    "language_info": {
      "name": "python"
    },
    "gpuClass": "standard"
  },
  "cells": [
    {
      "cell_type": "markdown",
      "source": [
        "# How to use this notebook\n",
        "\n",
        "If you're accessing this in Google Colab, click `File - Save a copy in drive` to get a version that you can run for yourself.\n",
        "\n",
        "Hit shift+enter to run each cell and move to the next cell.\n",
        "\n",
        "Some cells only have text (running them does nothing); others have code. All cells are editable if you're using your own copy."
      ],
      "metadata": {
        "id": "mgPyfUJLOtYZ"
      }
    },
    {
      "cell_type": "markdown",
      "source": [
        "# Displaying results: the `print` function\n",
        "\n",
        "Put text in quotation marks to make it appear exactly. Text not inside quotation marks will be interpreted as variables or other expressions. Several arithmetic operators are available: `+`, `*` (multiplication), `/` (division), `-`, `**` (raising to a power), `//` (integer division). The usual PEMDAS arithmetic order is used."
      ],
      "metadata": {
        "id": "ZFlIZcKJPgFX"
      }
    },
    {
      "cell_type": "code",
      "execution_count": null,
      "metadata": {
        "id": "b9SmI-_3Ohsf"
      },
      "outputs": [],
      "source": [
        "print(\"NEURON is a great tool for simulation.\")"
      ]
    },
    {
      "cell_type": "code",
      "source": [
        "print(5 * (3 + 2))"
      ],
      "metadata": {
        "id": "G-XnrQbzQO89"
      },
      "execution_count": null,
      "outputs": []
    },
    {
      "cell_type": "markdown",
      "source": [
        "If we had defined a variable `soma` using NEURON, we could see it's `diam` property via:\n",
        "\n",
        "```python\n",
        "print(soma.diam)\n",
        "```\n",
        "\n",
        "*More on this later in the tutorials.*"
      ],
      "metadata": {
        "id": "wF_QnMVsQRny"
      }
    },
    {
      "cell_type": "markdown",
      "source": [
        "# Variables\n",
        "\n",
        "Give things a name to access them later.\n",
        "\n",
        "Tip: use variables to avoid repeating the same value more than once. This helps reduce errors and ensure consistency. Want to learn more good practices for coding? Check out [Wilson et al., 2017. Good enough practices in scientific computing](https://journals.plos.org/ploscompbiol/article?id=10.1371/journal.pcbi.1005510)."
      ],
      "metadata": {
        "id": "OsIAXjeMQizX"
      }
    },
    {
      "cell_type": "code",
      "source": [
        "diameter = 4\n",
        "print(\"The diameter is\", diameter)\n",
        "print(\"The square of the diameter is\", diameter ** 2)"
      ],
      "metadata": {
        "id": "ZGwPa5qKQQSt"
      },
      "execution_count": null,
      "outputs": []
    },
    {
      "cell_type": "markdown",
      "source": [
        "*Did you notice that we can display more than one thing on a line with a single print function call by separating them with a comma?*"
      ],
      "metadata": {
        "id": "790LYoiHQ6JH"
      }
    },
    {
      "cell_type": "markdown",
      "source": [
        "# Lists and for loops\n",
        "\n",
        "To do the same thing to several items, put the items in a list and use a `for` loop:"
      ],
      "metadata": {
        "id": "qTRC9M7YRqIm"
      }
    },
    {
      "cell_type": "code",
      "source": [
        "cell_parts = [\"soma\", \"apical\", \"basal\", \"axon\"]\n",
        "for part in cell_parts:\n",
        "  print(\"A pyramidal cell has a\", part, \".\")"
      ],
      "metadata": {
        "id": "TvLt2mCGQ44E"
      },
      "execution_count": null,
      "outputs": []
    },
    {
      "cell_type": "markdown",
      "source": [
        "Did you notice the body of the `for` loop (the code being run repeatedly) is indented? This is *required* in Python. Every indented block is preceded by a colon at the end of the previous line.\n",
        "\n",
        "Items in a list can be accessed directly using the `[]` notation. Lists start at position 0."
      ],
      "metadata": {
        "id": "rjyV2aeMR41K"
      }
    },
    {
      "cell_type": "code",
      "source": [
        "print(cell_parts[2])"
      ],
      "metadata": {
        "id": "lbZFrC43R19o"
      },
      "execution_count": null,
      "outputs": []
    },
    {
      "cell_type": "markdown",
      "source": [
        "To check if an item is in a list, use `in`:"
      ],
      "metadata": {
        "id": "rWWWYmKcR_oC"
      }
    },
    {
      "cell_type": "code",
      "source": [
        "print(\"brain\" in cell_parts)"
      ],
      "metadata": {
        "id": "dTyQKvl0R-Lz"
      },
      "execution_count": null,
      "outputs": []
    },
    {
      "cell_type": "code",
      "source": [
        "print(\"soma\" in cell_parts)"
      ],
      "metadata": {
        "id": "HYALswWJSCm_"
      },
      "execution_count": null,
      "outputs": []
    },
    {
      "cell_type": "markdown",
      "source": [
        "To add an item to a list use `.append`."
      ],
      "metadata": {
        "id": "8LdadAGOVbjb"
      }
    },
    {
      "cell_type": "markdown",
      "source": [
        "# Dictionaries\n",
        "\n",
        "If there is no natural order, specify your own key-value pairs:"
      ],
      "metadata": {
        "id": "H2QS09SfSF2P"
      }
    },
    {
      "cell_type": "code",
      "source": [
        "diameters = {\"soma\": 10, \"axon\": 2, \"apical\": 5}\n",
        "print(diameters[\"apical\"])"
      ],
      "metadata": {
        "id": "U3R0ALKESD_p"
      },
      "execution_count": null,
      "outputs": []
    },
    {
      "cell_type": "markdown",
      "source": [
        "Loop over keys and values using `.items()`:"
      ],
      "metadata": {
        "id": "wiRUFu0VSO5F"
      }
    },
    {
      "cell_type": "code",
      "source": [
        "for name, diam in diameters.items():\n",
        "  print(\"The diameter of the\", name, \"is\", diam, \"µm.\")"
      ],
      "metadata": {
        "id": "tWgfqzV-SNOM"
      },
      "execution_count": null,
      "outputs": []
    },
    {
      "cell_type": "markdown",
      "source": [
        "## String formatting\n",
        "\n",
        "We'll often want to insert variables into text\n",
        "- e.g. when labeling time points in graphs, storing parameters in data filenames, ...\n",
        "\n",
        "In Python, this is done using an f-string, e.g."
      ],
      "metadata": {
        "id": "h7H4QXhyJcjv"
      }
    },
    {
      "cell_type": "code",
      "source": [
        "tstop = 10\n",
        "my_string = f\"We should stop at t = {tstop} ms\"\n",
        "print(my_string)"
      ],
      "metadata": {
        "id": "UwM8QuPQJucm"
      },
      "execution_count": null,
      "outputs": []
    },
    {
      "cell_type": "markdown",
      "source": [
        "Formatting can be specified, e.g. to round to a certain number of digits."
      ],
      "metadata": {
        "id": "dI32IaXJJ0aj"
      }
    },
    {
      "cell_type": "code",
      "source": [
        "pi = 3.14159265358979\n",
        "print(f\"pi is approximately {pi:.5}\")\n",
        "print(f\"pi is approximately {pi:.7}\")\n"
      ],
      "metadata": {
        "id": "e8rmHtt3J5kW"
      },
      "execution_count": null,
      "outputs": []
    },
    {
      "cell_type": "markdown",
      "source": [
        "# Functions\n",
        "\n",
        "If a calculation is used more than once, give it a name via `def` and refer to it by the name.\n",
        "\n",
        "If there is a complicated self-contained calculation, give it a name.\n",
        "\n",
        "Return the result of the calculation with the `return` keyword."
      ],
      "metadata": {
        "id": "0QwETk-3ScQT"
      }
    },
    {
      "cell_type": "code",
      "source": [
        "def volume_of_cylinder(diameter, length):\n",
        "  return (3.14 / 4) * diameter ** 2 * length"
      ],
      "metadata": {
        "id": "RApR3PotSXkk"
      },
      "execution_count": null,
      "outputs": []
    },
    {
      "cell_type": "code",
      "source": [
        "vol1 = volume_of_cylinder(5, 20)\n",
        "print(vol1, \"µm *** 3\")"
      ],
      "metadata": {
        "id": "yllaMzsAStyc"
      },
      "execution_count": null,
      "outputs": []
    },
    {
      "cell_type": "markdown",
      "source": [
        "If we had a single cylindrical NEURON section named `apical`, we could use the above function to compute its volume via:\n",
        "\n",
        "```python\n",
        "apical_vol = volume_of_cylinder(apical.diam, apical.L)\n",
        "```\n",
        "\n",
        "We wouldn't actually have to though, because each segment (`seg`) can compute its own volume (via `seg.volume()`), and that takes into account any tapering of the section... the right way to get the volume of the entire apical section no matter the shape or the number of compartments is:\n",
        "\n",
        "```python\n",
        "apical_vol = sum(seg.volume() for seg in apical)\n",
        "```"
      ],
      "metadata": {
        "id": "5ls2Kk0wTMJs"
      }
    },
    {
      "cell_type": "markdown",
      "source": [
        "# Libraries (aka \"modules\")\n",
        "\n",
        "Python modules provide functions, classes, and values that your scripts can use.\n",
        "\n",
        "To load a module, use `import`, e.g."
      ],
      "metadata": {
        "id": "fzuHaPtEUTS0"
      }
    },
    {
      "cell_type": "code",
      "source": [
        "import math"
      ],
      "metadata": {
        "id": "kwn2r22sTLAc"
      },
      "execution_count": null,
      "outputs": []
    },
    {
      "cell_type": "markdown",
      "source": [
        "Use dot notation to access a funciton or value from the module:"
      ],
      "metadata": {
        "id": "KxaJAHpbU0vu"
      }
    },
    {
      "cell_type": "code",
      "source": [
        "print(math.cos(math.pi / 3))"
      ],
      "metadata": {
        "id": "lg_dAWXYUbcH"
      },
      "execution_count": null,
      "outputs": []
    },
    {
      "cell_type": "markdown",
      "source": [
        "One can also load specific items from a module or give a short-hand name for the module:"
      ],
      "metadata": {
        "id": "ew_vZn2eU8sh"
      }
    },
    {
      "cell_type": "code",
      "source": [
        "import pandas as pd"
      ],
      "metadata": {
        "id": "rmln64JFU7gS"
      },
      "execution_count": null,
      "outputs": []
    },
    {
      "cell_type": "code",
      "source": [
        "from sklearn.linear_model import LogisticRegression"
      ],
      "metadata": {
        "id": "Bt5kvfChVEx4"
      },
      "execution_count": null,
      "outputs": []
    },
    {
      "cell_type": "markdown",
      "source": [
        "For using NEURON we'll often want to use:\n",
        "\n",
        "```python\n",
        "from neuron import h\n",
        "```\n",
        "\n",
        "If we want to use NEURON's interactive graphical interface, we'd also use\n",
        "```python\n",
        "from neuron import gui\n",
        "```\n",
        "\n",
        "If we do that though, we'll probably want to be sure to run our Python script either from a Jupyter notebook or by using the `-i` (interactive) flag, as in:\n",
        "```\n",
        "python -i my_script.py\n",
        "```"
      ],
      "metadata": {
        "id": "hAMPbKSsVqqU"
      }
    },
    {
      "cell_type": "markdown",
      "source": [
        "## Some useful Python modules\n",
        "\n",
        "### [`math`](https://docs.python.org/3/library/math.html)\n",
        "  - basic math functions\n",
        "\n",
        "### [`numpy`](https://numpy.org/doc/stable/reference/index.html)\n",
        "  - advanced math functions (vectorized calculations, matrices, ...)\n",
        "\n",
        "### [`pandas`](https://pandas.pydata.org/docs/)\n",
        "  - basic data science and database access\n",
        "\n",
        "### [`sklearn`](https://scikit-learn.org/stable/)\n",
        "  - machine learning\n",
        "\n",
        "### [`plotly`](https://plotly.com/python/), [`plotnine`](https://plotnine.readthedocs.io/en/stable/), [`matplotlib`](https://matplotlib.org/)\n",
        "  - plotting"
      ],
      "metadata": {
        "id": "vZCENaADWiDG"
      }
    },
    {
      "cell_type": "markdown",
      "source": [
        "## plotting\n"
      ],
      "metadata": {
        "id": "4gT-h3syGJaB"
      }
    },
    {
      "cell_type": "markdown",
      "source": [
        "### A simple line graph (with data points labeled) via plotnine and pandas"
      ],
      "metadata": {
        "id": "9t60lmgzIbVS"
      }
    },
    {
      "cell_type": "code",
      "source": [
        "import pandas as pd\n",
        "import plotnine as p9\n",
        "\n",
        "data = pd.DataFrame({\n",
        "    \"t\": [1, 2, 3, 4, 5, 6], \n",
        "    \"square\": [1, 4, 9, 16, 25, 36]})\n",
        "\n",
        "print(\n",
        "    p9.ggplot(data, p9.aes(x=\"t\", y=\"square\")) + p9.geom_path() + p9.geom_point()\n",
        ")"
      ],
      "metadata": {
        "id": "zlvIURi6VPii"
      },
      "execution_count": null,
      "outputs": []
    },
    {
      "cell_type": "markdown",
      "source": [
        "### A line graph using `plotly`\n",
        "When using a Jupyter notebook (directly or via e.g. Google Colab or Open Source Brain), `plotly` allows generating graphs that can be interactively zoomed, panned, etc."
      ],
      "metadata": {
        "id": "8LwputmOIm9S"
      }
    },
    {
      "cell_type": "code",
      "source": [
        "import plotly.graph_objects as go\n",
        "\n",
        "fig = go.Figure()\n",
        "fig.add_trace(\n",
        "    go.Scatter(x=data[\"t\"], y=data[\"square\"], name=\"square\")\n",
        ")\n",
        "fig.update_layout({\n",
        "    \"xaxis_title\": \"t\",\n",
        "    \"yaxis_title\": \"square\"\n",
        "})\n",
        "fig.show()"
      ],
      "metadata": {
        "id": "KuNa-Qa4VRVv"
      },
      "execution_count": null,
      "outputs": []
    },
    {
      "cell_type": "markdown",
      "source": [
        "## Getting help\n",
        "\n",
        "To get a list of functions, etc. in a module (or class), use `dir`:"
      ],
      "metadata": {
        "id": "X3RhjRUJKJkk"
      }
    },
    {
      "cell_type": "code",
      "source": [
        "import pandas as pd\n",
        "print(dir(pd))"
      ],
      "metadata": {
        "id": "2lPHxUczJJoD"
      },
      "execution_count": null,
      "outputs": []
    },
    {
      "cell_type": "markdown",
      "source": [
        "To see help information for a specific function or class, use help:"
      ],
      "metadata": {
        "id": "CaeNZ6-_KXlp"
      }
    },
    {
      "cell_type": "code",
      "source": [
        "help(go.Figure)"
      ],
      "metadata": {
        "id": "InJcfOB9KSBn"
      },
      "execution_count": null,
      "outputs": []
    },
    {
      "cell_type": "markdown",
      "source": [
        "Python is widely used, and there are many online resources available, including:\n",
        "\n",
        "- [docs.python.org](https://docs.python.org) – the official documentation\n",
        "- [Stack Overflow](https://stackoverflow.com) – a general-purpose programming forum\n",
        "- [The NEURON Python programmer's reference](https://nrn.readthedocs.io/en/latest/python/index.html) – NEURON documentation\n",
        "- [The NEURON forum](https://neuron.yale.edu/phpBB) – for NEURON-related programming questions\n"
      ],
      "metadata": {
        "id": "Pt1R4OhSK99f"
      }
    }
  ]
}
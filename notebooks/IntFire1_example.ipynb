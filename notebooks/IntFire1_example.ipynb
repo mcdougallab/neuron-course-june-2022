{
  "nbformat": 4,
  "nbformat_minor": 0,
  "metadata": {
    "colab": {
      "name": "IntFire1 example",
      "provenance": []
    },
    "kernelspec": {
      "name": "python3",
      "display_name": "Python 3"
    },
    "language_info": {
      "name": "python"
    }
  },
  "cells": [
    {
      "cell_type": "code",
      "execution_count": null,
      "metadata": {
        "colab": {
          "base_uri": "https://localhost:8080/"
        },
        "id": "4wrKeu8JXu8e",
        "outputId": "517a7b92-8e25-4ed2-a2ad-3aee791f2baf"
      },
      "outputs": [
        {
          "output_type": "stream",
          "name": "stdout",
          "text": [
            "Requirement already satisfied: neuron in /usr/local/lib/python3.7/dist-packages (8.1.0)\n",
            "Requirement already satisfied: numpy>=1.9.3 in /usr/local/lib/python3.7/dist-packages (from neuron) (1.21.6)\n"
          ]
        }
      ],
      "source": [
        "!pip install neuron"
      ]
    },
    {
      "cell_type": "code",
      "source": [
        "from neuron import h\n",
        "from neuron.units import ms, mV\n",
        "import matplotlib.pyplot as plt\n",
        "h.load_file(\"stdrun.hoc\")"
      ],
      "metadata": {
        "colab": {
          "base_uri": "https://localhost:8080/"
        },
        "id": "1BoTjaLOXx7R",
        "outputId": "972e2e6b-dec0-493a-f177-956734fdd8c5"
      },
      "execution_count": null,
      "outputs": [
        {
          "output_type": "execute_result",
          "data": {
            "text/plain": [
              "1.0"
            ]
          },
          "metadata": {},
          "execution_count": 2
        }
      ]
    },
    {
      "cell_type": "code",
      "source": [
        "my_cell = h.IntFire1()\n",
        "my_cell.tau = 4 * ms\n",
        "my_cell.refrac = 10 * ms"
      ],
      "metadata": {
        "id": "OfQ-wrRaX24N"
      },
      "execution_count": null,
      "outputs": []
    },
    {
      "cell_type": "code",
      "source": [
        "e_stims = h.NetStim()\n",
        "e_stims.noise = True\n",
        "e_stims.interval = 3 * ms\n",
        "e_stims.start = 0 * ms\n",
        "e_stims.number = 1e10"
      ],
      "metadata": {
        "id": "llq2i43RYCxI"
      },
      "execution_count": null,
      "outputs": []
    },
    {
      "cell_type": "code",
      "source": [
        "nc = h.NetCon(e_stims, my_cell)\n",
        "nc.weight[0] = 0.5\n",
        "nc.delay = 0 * ms"
      ],
      "metadata": {
        "id": "WXSQdMnCYbYT"
      },
      "execution_count": null,
      "outputs": []
    },
    {
      "cell_type": "code",
      "source": [
        "stim_times = h.Vector()\n",
        "output_times = h.Vector()\n",
        "stim_times_nc = h.NetCon(e_stims, None)\n",
        "stim_times_nc.record(stim_times)\n",
        "output_times_nc = h.NetCon(my_cell, None)\n",
        "output_times_nc.record(output_times)"
      ],
      "metadata": {
        "colab": {
          "base_uri": "https://localhost:8080/"
        },
        "id": "T8YE3i_oYhmG",
        "outputId": "e70d2a64-4566-4a67-847f-825f1b69e94f"
      },
      "execution_count": null,
      "outputs": [
        {
          "output_type": "execute_result",
          "data": {
            "text/plain": [
              "0.0"
            ]
          },
          "metadata": {},
          "execution_count": 6
        }
      ]
    },
    {
      "cell_type": "code",
      "source": [
        "h.finitialize(-65 * mV)\n",
        "h.continuerun(100 * ms)"
      ],
      "metadata": {
        "colab": {
          "base_uri": "https://localhost:8080/"
        },
        "id": "OwNHZVUtYz_e",
        "outputId": "b9840548-82c0-4ecc-c756-c48ce5a8c5ed"
      },
      "execution_count": null,
      "outputs": [
        {
          "output_type": "execute_result",
          "data": {
            "text/plain": [
              "0.0"
            ]
          },
          "metadata": {},
          "execution_count": 7
        }
      ]
    },
    {
      "cell_type": "code",
      "source": [
        "fig, ax = plt.subplots(figsize=(8, 2))\n",
        "\n",
        "for c, (color, data) in enumerate([(\"red\", stim_times), (\"black\", output_times)]):\n",
        "  ax.vlines(data, c - 0.4, c + 0.4, colors=color)\n",
        "\n",
        "ax.set_yticks([0, 1])\n",
        "ax.set_yticklabels(['excitatory\\nstimuli', 'output\\nevents'])\n",
        "\n",
        "ax.set_xlim([0, h.t])\n",
        "\n",
        "ax.set_xlabel('time (ms)')\n",
        "\n"
      ],
      "metadata": {
        "colab": {
          "base_uri": "https://localhost:8080/",
          "height": 188
        },
        "id": "YnGJaQ69ZW_D",
        "outputId": "0c757451-121a-4a82-f1d1-0554d1a5aa19"
      },
      "execution_count": null,
      "outputs": [
        {
          "output_type": "execute_result",
          "data": {
            "text/plain": [
              "Text(0.5, 0, 'time (ms)')"
            ]
          },
          "metadata": {},
          "execution_count": 8
        },
        {
          "output_type": "display_data",
          "data": {
            "text/plain": [
              "<Figure size 576x144 with 1 Axes>"
            ],
            "image/png": "[encoded data removed]"
          },
          "metadata": {
            "needs_background": "light"
          }
        }
      ]
    },
    {
      "cell_type": "code",
      "source": [
        ""
      ],
      "metadata": {
        "id": "KF9u_x96aA9V"
      },
      "execution_count": null,
      "outputs": []
    }
  ]
}